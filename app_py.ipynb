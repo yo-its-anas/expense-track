{
  "nbformat": 4,
  "nbformat_minor": 0,
  "metadata": {
    "colab": {
      "provenance": [],
      "authorship_tag": "ABX9TyOl6d8rH7uB2FgtfK/btV6e",
      "include_colab_link": true
    },
    "kernelspec": {
      "name": "python3",
      "display_name": "Python 3"
    },
    "language_info": {
      "name": "python"
    }
  },
  "cells": [
    {
      "cell_type": "markdown",
      "metadata": {
        "id": "view-in-github",
        "colab_type": "text"
      },
      "source": [
        "<a href=\"https://colab.research.google.com/github/yo-its-anas/expense-track/blob/main/app_py.ipynb\" target=\"_parent\"><img src=\"https://colab.research.google.com/assets/colab-badge.svg\" alt=\"Open In Colab\"/></a>"
      ]
    },
    {
      "cell_type": "code",
      "source": [
        "import streamlit as st\n",
        "import pandas as pd\n",
        "\n",
        "# Initialize an empty DataFrame to store expenses\n",
        "expenses = pd.DataFrame(columns=[\"Description\", \"Amount\", \"Category\"])\n",
        "\n",
        "# Function to add an expense entry\n",
        "def add_expense(description, amount, category):\n",
        "    global expenses\n",
        "    new_expense = pd.DataFrame([[description, amount, category]], columns=[\"Description\", \"Amount\", \"Category\"])\n",
        "    expenses = pd.concat([expenses, new_expense], ignore_index=True)\n",
        "\n",
        "# Function to get total expenses and summary by category\n",
        "def get_summary():\n",
        "    if expenses.empty:\n",
        "        st.write(\"No expenses logged yet.\")\n",
        "        return\n",
        "\n",
        "    st.subheader(\"Expense Summary\")\n",
        "    total_expense = expenses[\"Amount\"].sum()\n",
        "    st.write(f\"**Total Expense: ${total_expense:.2f}**\")\n",
        "\n",
        "    # Show summary by category\n",
        "    category_summary = expenses.groupby(\"Category\")[\"Amount\"].sum().reset_index()\n",
        "    st.write(\"**Expenses by Category:**\")\n",
        "    st.dataframe(category_summary)\n",
        "\n",
        "# Streamlit UI\n",
        "\n",
        "st.title(\"Expense Tracker\")\n",
        "\n",
        "# Expense form\n",
        "st.subheader(\"Add New Expense\")\n",
        "with st.form(key='expense_form'):\n",
        "    description = st.text_input(\"Description\")\n",
        "    amount = st.number_input(\"Amount\", min_value=0.0, format=\"%.2f\")\n",
        "    category = st.selectbox(\"Category\", [\"Food\", \"Transport\", \"Utilities\", \"Entertainment\", \"Other\"])\n",
        "    submit_button = st.form_submit_button(label=\"Add Expense\")\n",
        "\n",
        "    if submit_button:\n",
        "        add_expense(description, amount, category)\n",
        "        st.success(\"Expense added successfully!\")\n",
        "\n",
        "# Display expenses\n",
        "st.subheader(\"All Expenses\")\n",
        "if not expenses.empty:\n",
        "    st.dataframe(expenses)\n",
        "else:\n",
        "    st.write(\"No expenses to show yet.\")\n",
        "\n",
        "# Show the summary\n",
        "get_summary()\n"
      ],
      "metadata": {
        "id": "G35tptjhMyea"
      },
      "execution_count": null,
      "outputs": []
    }
  ]
}